{
 "cells": [
  {
   "cell_type": "markdown",
   "metadata": {},
   "source": [
    "READER"
   ]
  },
  {
   "cell_type": "code",
   "execution_count": null,
   "metadata": {},
   "outputs": [],
   "source": [
    "import os\n",
    "import pandas as pd\n",
    "\n",
    "class Reader():\n",
    "    def __init__(self, file_path):\n",
    "        self.__file_path = file_path\n",
    "        self.__files = [ f for f in os.listdir(file_path) if os.path.isfile(os.path.join(file_path,f)) ]\n",
    "        self.dataFrames = []\n",
    "\n",
    "    # Returns a list with all the file names in a specific folder\n",
    "    def listFile(self):\n",
    "        return self.__files\n",
    "\n",
    "    # Returns a list of all the dataframes in the folder from csv files\n",
    "    def DfList(self):\n",
    "        if not self.dataFrames:\n",
    "            for file in self.__files:\n",
    "                if file.endswith(\".csv\"):\n",
    "                    self.dataFrames.append(pd.read_csv(os.path.join(self.__file_path, file)))\n",
    "                else:\n",
    "                    raise ValueError(\"File must be a CSV.\")\n",
    "        return self.dataFrames\n",
    "\n",
    "    # Returns a specific dataframe by index \n",
    "    def getDfByIndex(self, index):\n",
    "        self.DfList()\n",
    "        index -= 1\n",
    "        if index < 0 or index >= len(self.dataFrames):\n",
    "            raise ValueError(\"Index out of range.\")\n",
    "        return self.dataFrames[index]\n",
    "    \n",
    "    # Returns the amount of files in the folder\n",
    "    def getLength(self):\n",
    "        return len(self.__files)\n",
    "    "
   ]
  },
  {
   "cell_type": "markdown",
   "metadata": {},
   "source": [
    "WRITER"
   ]
  },
  {
   "cell_type": "code",
   "execution_count": null,
   "metadata": {},
   "outputs": [],
   "source": [
    "class Writer():\n",
    "    def __init__(self, dataFrame, fileName, folder_path):\n",
    "        self.df = dataFrame\n",
    "        self.fn = fileName\n",
    "        self.folder_path = folder_path\n",
    "        self.writeCsv()\n",
    "\n",
    "    # Writes a dataframe to a CSV file\n",
    "    def writeCsv(self):\n",
    "        if not isinstance(self.df, pd.DataFrame):\n",
    "            raise ValueError(\"Dataframe must be a pandas DataFrame\")\n",
    "        \n",
    "        self.df.to_csv(os.path.join(self.folder_path, self.fn + '.csv'), index=False)\n",
    "        return print(\"File saved successfully\")\n"
   ]
  },
  {
   "cell_type": "code",
   "execution_count": null,
   "metadata": {},
   "outputs": [],
   "source": [
    "reader = Reader('files')\n",
    "filenames = ['test1', 'test2']\n",
    "\n",
    "for filename, file in zip(filenames, reader.DfList()):\n",
    "    Writer(file, filename, 'output')\n",
    "\n",
    "\n",
    "\n"
   ]
  },
  {
   "cell_type": "markdown",
   "metadata": {},
   "source": []
  }
 ],
 "metadata": {
  "kernelspec": {
   "display_name": "Python 3",
   "language": "python",
   "name": "python3"
  },
  "language_info": {
   "codemirror_mode": {
    "name": "ipython",
    "version": 3
   },
   "file_extension": ".py",
   "mimetype": "text/x-python",
   "name": "python",
   "nbconvert_exporter": "python",
   "pygments_lexer": "ipython3",
   "version": "3.11.6"
  }
 },
 "nbformat": 4,
 "nbformat_minor": 2
}
